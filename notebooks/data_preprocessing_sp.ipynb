{
 "cells": [
  {
   "cell_type": "code",
   "execution_count": 1,
   "id": "b29c2077",
   "metadata": {},
   "outputs": [],
   "source": [
    "import os\n",
    "os.chdir('..')"
   ]
  },
  {
   "cell_type": "code",
   "execution_count": 2,
   "id": "bda8cb83",
   "metadata": {},
   "outputs": [
    {
     "name": "stderr",
     "output_type": "stream",
     "text": [
      "/Users/shivampatel/miniconda3/envs/la/lib/python3.10/site-packages/tqdm/auto.py:22: TqdmWarning: IProgress not found. Please update jupyter and ipywidgets. See https://ipywidgets.readthedocs.io/en/stable/user_install.html\n",
      "  from .autonotebook import tqdm as notebook_tqdm\n",
      "pybullet build time: Aug 21 2022 17:44:27\n"
     ]
    }
   ],
   "source": [
    "from latent_actions.data.dataset import EpisodicDataset\n",
    "import pickle\n",
    "import numpy as np\n",
    "from panda_gym.envs.robots.panda import Panda\n",
    "from panda_gym.pybullet import PyBullet"
   ]
  },
  {
   "cell_type": "markdown",
   "id": "e9f13c57",
   "metadata": {},
   "source": [
    "## Old Data"
   ]
  },
  {
   "cell_type": "code",
   "execution_count": 3,
   "id": "fd5115f1",
   "metadata": {},
   "outputs": [],
   "source": [
    "with open('data/rpnp_traj_final.pkl', 'rb') as fp:\n",
    "    epi_ds = pickle.load(fp)"
   ]
  },
  {
   "cell_type": "code",
   "execution_count": 4,
   "id": "60ddc56c",
   "metadata": {},
   "outputs": [],
   "source": [
    "sim = PyBullet(render=False)\n",
    "robot = Panda(sim, block_gripper=False, base_position=np.array([0.0, 0.0, 0.0]), control_type='ee')"
   ]
  },
  {
   "cell_type": "code",
   "execution_count": 5,
   "id": "68130a27",
   "metadata": {},
   "outputs": [],
   "source": [
    "for epi in epi_ds.episodes:\n",
    "    for st in epi.steps:\n",
    "        robot.set_joint_angles(st.context['joint_angles'])\n",
    "        st.context['ee_pos'] = robot.get_ee_position()"
   ]
  },
  {
   "cell_type": "code",
   "execution_count": 11,
   "id": "da9477d7",
   "metadata": {},
   "outputs": [],
   "source": [
    "for epi in epi_ds.episodes:\n",
    "    for i in range(len(epi.steps)-1):\n",
    "        epi.steps[i].ee_velocity = epi.steps[i+1].context['ee_pos'] - epi.steps[i].context['ee_pos']\n",
    "        epi.steps[i].gripper_velocity = epi.steps[i+1].context['gripper_width'] - epi.steps[i].context['gripper_width']"
   ]
  },
  {
   "cell_type": "code",
   "execution_count": 12,
   "id": "d442ff6d",
   "metadata": {},
   "outputs": [
    {
     "data": {
      "text/plain": [
       "Step(joint_velocity=array([ 1.72166465e-04, -3.71862741e-04,  7.93984552e-04, -1.42910645e-05,\n",
       "        2.06962128e-05, -5.42213092e-05,  1.01906034e-03]), ee_velocity=array([ 4.25061926e-06, -1.41474964e-06,  5.20902093e-06]), context={'joint_angles': array([ 0.15133288,  0.57108017, -0.1546331 , -2.21932278,  0.18590827,\n",
       "        2.78850058,  0.77104332]), 'gripper_width': 0.08003650605678558, 'ee_pos': array([ 0.53945997, -0.01707561,  0.01404306])}, gripper_velocity=0.0, human_action=array([], dtype=float64))"
      ]
     },
     "execution_count": 12,
     "metadata": {},
     "output_type": "execute_result"
    }
   ],
   "source": [
    "epi_ds.episodes[0].steps[0]"
   ]
  },
  {
   "cell_type": "code",
   "execution_count": 13,
   "id": "222dfce7",
   "metadata": {},
   "outputs": [],
   "source": [
    "for epi in epi_ds.episodes:\n",
    "    epi.steps = epi.steps[:-1]\n",
    "    for st in epi.steps:\n",
    "        st.gripper_velocity = np.array([st.gripper_velocity])\n",
    "        st.context['gripper_width'] = np.array([st.context['gripper_width']])"
   ]
  },
  {
   "cell_type": "code",
   "execution_count": 14,
   "id": "644057d9",
   "metadata": {},
   "outputs": [],
   "source": [
    "epi_ds.dump('data/rpnp_traj_with_pose_old.pkl')"
   ]
  },
  {
   "cell_type": "markdown",
   "id": "d4cfd521",
   "metadata": {},
   "source": [
    "## New Data"
   ]
  },
  {
   "cell_type": "code",
   "execution_count": 15,
   "id": "b8ca1989",
   "metadata": {},
   "outputs": [
    {
     "name": "stderr",
     "output_type": "stream",
     "text": [
      "WARNING:root:Failed to import geometry msgs in rigid_transformations.py.\n",
      "WARNING:root:Failed to import ros dependencies in rigid_transforms.py\n",
      "WARNING:root:autolab_core not installed as catkin package, RigidTransform ros methods will be unavailable\n"
     ]
    }
   ],
   "source": [
    "with open('data/rpnp_traj_pose_o1g1.pkl', 'rb') as fp:\n",
    "    epi_ds1 = pickle.load(fp)\n",
    "with open('data/rpnp_traj_pose_o1g2.pkl', 'rb') as fp:\n",
    "    epi_ds2 = pickle.load(fp)\n",
    "with open('data/rpnp_traj_pose_o2g1.pkl', 'rb') as fp:\n",
    "    epi_ds3 = pickle.load(fp)\n",
    "with open('data/rpnp_traj_pose_o2g2.pkl', 'rb') as fp:\n",
    "    epi_ds4 = pickle.load(fp)"
   ]
  },
  {
   "cell_type": "code",
   "execution_count": 22,
   "id": "05ec2500",
   "metadata": {},
   "outputs": [],
   "source": [
    "epi_ds = EpisodicDataset()\n",
    "epi_ds.episodes = epi_ds1.episodes + epi_ds2.episodes + epi_ds3.episodes + epi_ds4.episodes"
   ]
  },
  {
   "cell_type": "code",
   "execution_count": 25,
   "id": "4f554518",
   "metadata": {},
   "outputs": [],
   "source": [
    "for epi in epi_ds.episodes:\n",
    "    for st in epi.steps:\n",
    "        st.context['gripper_width'] = min(max(st.context['gripper_width'], 0), 0.08)"
   ]
  },
  {
   "cell_type": "code",
   "execution_count": 26,
   "id": "8f023c73",
   "metadata": {},
   "outputs": [],
   "source": [
    "for epi in epi_ds.episodes:\n",
    "    for i in range(len(epi.steps)-1):\n",
    "        epi.steps[i].ee_velocity = epi.steps[i+1].context['pose'].translation - epi.steps[i].context['pose'].translation\n",
    "        epi.steps[i].gripper_velocity = epi.steps[i+1].context['gripper_width'] - epi.steps[i].context['gripper_width']"
   ]
  },
  {
   "cell_type": "code",
   "execution_count": 27,
   "id": "839155b3",
   "metadata": {},
   "outputs": [
    {
     "data": {
      "text/plain": [
       "Step(joint_velocity=array([-0.00018434, -0.00188449,  0.00042627,  0.00015077, -0.00033054,\n",
       "        0.00025315,  0.00034416]), ee_velocity=array([8.00519558e-07, 1.02541019e-06, 1.18646757e-06]), context={'joint_angles': array([ 2.65130738e-03,  6.91122496e-01, -3.48891762e-02, -2.71925582e+00,\n",
       "        9.43209190e-03,  3.43267063e+00,  7.85066110e-01]), 'gripper_width': 0.08, 'pose': RigidTransform(rotation=np.array([[ 0.99920478, -0.03298786,  0.02196263],\n",
       "       [-0.03242571, -0.99913973, -0.02547802],\n",
       "       [ 0.0227842 ,  0.0247456 , -0.9994341 ]]), translation=np.array([ 0.33498167, -0.01859357, -0.07637264]), from_frame='franka_tool', to_frame='world')}, gripper_velocity=0.0, human_action=array([], dtype=float64))"
      ]
     },
     "execution_count": 27,
     "metadata": {},
     "output_type": "execute_result"
    }
   ],
   "source": [
    "epi_ds.episodes[0].steps[0]"
   ]
  },
  {
   "cell_type": "code",
   "execution_count": 34,
   "id": "60abffc0",
   "metadata": {},
   "outputs": [],
   "source": [
    "for epi in epi_ds.episodes:\n",
    "    epi.steps = epi.steps[:-1]\n",
    "    for st in epi.steps:\n",
    "        st.gripper_velocity = np.array([st.gripper_velocity])\n",
    "        st.context['gripper_width'] = np.array([st.context['gripper_width']])\n",
    "        st.context['ee_pos'] = st.context['pose'].translation\n",
    "        st.context['ee_rot'] = st.context['pose'].rotation"
   ]
  },
  {
   "cell_type": "code",
   "execution_count": 36,
   "id": "bfd7fcfa",
   "metadata": {},
   "outputs": [
    {
     "data": {
      "text/plain": [
       "(array([ 0.34209884, -0.01871496, -0.07844445]),\n",
       " array([ 0.34202186, -0.01870173, -0.07684636]))"
      ]
     },
     "execution_count": 36,
     "metadata": {},
     "output_type": "execute_result"
    }
   ],
   "source": []
  }
 ],
 "metadata": {
  "kernelspec": {
   "display_name": "la",
   "language": "python",
   "name": "la"
  },
  "language_info": {
   "codemirror_mode": {
    "name": "ipython",
    "version": 3
   },
   "file_extension": ".py",
   "mimetype": "text/x-python",
   "name": "python",
   "nbconvert_exporter": "python",
   "pygments_lexer": "ipython3",
   "version": "3.10.4"
  }
 },
 "nbformat": 4,
 "nbformat_minor": 5
}
